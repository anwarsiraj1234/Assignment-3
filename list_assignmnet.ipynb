{
 "cells": [
  {
   "cell_type": "code",
   "execution_count": null,
   "id": "c0d4a26b-0a9d-40fe-9ad1-68cbb69d14bb",
   "metadata": {},
   "outputs": [],
   "source": [
    "#Assignment \"Python List Manipulation Assignment\""
   ]
  },
  {
   "cell_type": "code",
   "execution_count": 5,
   "id": "7565e885-53a7-4c39-8159-1fd5f65e3c89",
   "metadata": {},
   "outputs": [
    {
     "name": "stdout",
     "output_type": "stream",
     "text": [
      "['apple', 'mango', 'banana', 'grape', 'kiwi', 'pear']\n"
     ]
    }
   ],
   "source": [
    "#Question 1: Basic List Operations\n",
    "#a\n",
    "fruits=[\"apple\",\"banana\",\"orange\",\"grape\",\"kiwi\"]\n",
    "#b\n",
    "fruits.append(\"pear\")\n",
    "#print(fruits)\n",
    "#c\n",
    "fruits.insert(1,\"mango\")\n",
    "#print(fruits)\n",
    "#d\n",
    "fruits.remove(\"orange\")\n",
    "print(fruits)"
   ]
  },
  {
   "cell_type": "code",
   "execution_count": 13,
   "id": "2c3b6d47-f3a6-4da5-915b-c095d9ac5eb5",
   "metadata": {},
   "outputs": [
    {
     "name": "stdout",
     "output_type": "stream",
     "text": [
      "3\n",
      "[2, 3, 4, 5, 6]\n",
      "[7, 8, 9]\n"
     ]
    }
   ],
   "source": [
    "# Question 2: Slicing and Indexing\n",
    "#a\n",
    "numbers=[0,1,2,3,4,5,6,7,8,9]\n",
    "#b\n",
    "print(numbers[3])\n",
    "#c\n",
    "print(numbers[2:7])\n",
    "#d\n",
    "print(numbers[-3:])"
   ]
  },
  {
   "cell_type": "code",
   "execution_count": 15,
   "id": "818771d0-fc85-4b09-bacc-ccf8fc65ca83",
   "metadata": {},
   "outputs": [
    {
     "name": "stdout",
     "output_type": "stream",
     "text": [
      "[1, 4, 9, 16, 25, 36, 49, 64, 81, 100]\n",
      "[4, 16, 36, 64, 100]\n"
     ]
    }
   ],
   "source": [
    "# Question 3: List Comprehension\n",
    "#a\n",
    "squares=[]\n",
    "for i in range(1,11):\n",
    "    squares.append(i**2)\n",
    "print(squares)\n",
    "\n",
    "#b\n",
    "even_squares=[]\n",
    "for i in squares:\n",
    "    if i%2==0:\n",
    "        even_squares.append(i)\n",
    "print(even_squares)\n"
   ]
  },
  {
   "cell_type": "code",
   "execution_count": 36,
   "id": "42a872db-b84b-4ce8-be0d-69bf978fd5cc",
   "metadata": {},
   "outputs": [
    {
     "name": "stdout",
     "output_type": "stream",
     "text": [
      "['purple', 'green', 'blue', 'yellow', 'red']\n",
      "['red', 'yellow', 'blue', 'green', 'purple']\n",
      "['purple', 'yellow', 'red']\n"
     ]
    }
   ],
   "source": [
    "# Question 4: List Manipulation\n",
    "#a\n",
    "colors=[\"red\", \"green\", \"blue\", \"yellow\", \"purple\"]\n",
    "\n",
    "#b\n",
    "swap=\"\"\n",
    "swap+=colors[-1]\n",
    "#print(swap)\n",
    "colors[-1]=colors[0]\n",
    "#print(colors[-1])\n",
    "colors[0]=swap\n",
    "print(colors)\n",
    "\n",
    "#c\n",
    "print(colors[::-1])\n",
    "\n",
    "#d\n",
    "colors.remove(\"green\")\n",
    "colors.remove(\"blue\")\n",
    "print(colors)"
   ]
  },
  {
   "cell_type": "code",
   "execution_count": 28,
   "id": "94f3de45-3f25-4852-8be3-a32f9fbdb753",
   "metadata": {},
   "outputs": [
    {
     "name": "stdout",
     "output_type": "stream",
     "text": [
      "['a', 'b', 'c', 'd', 'e', 'a', 'b', 'c', 'd', 'e']\n",
      "['h', 'i', 'j']\n"
     ]
    }
   ],
   "source": [
    "# Question 5: Advanced Slicing\n",
    "#a\n",
    "letters=[\"a\",\"b\",\"c\",\"d\",\"e\",\"f\",\"g\",\"h\",\"i\",\"j\"]\n",
    "#b\n",
    "first_half+=letters[0:5]\n",
    "print(first_half)\n",
    "#c\n",
    "last_three=[]\n",
    "last_three+=letters[-3:]\n",
    "print(last_three)\n"
   ]
  },
  {
   "cell_type": "code",
   "execution_count": 30,
   "id": "a058a395-c343-404c-bdc2-17b04e06b4c0",
   "metadata": {},
   "outputs": [
    {
     "name": "stdout",
     "output_type": "stream",
     "text": [
      "6\n",
      "[[1, 2, 3], [0, 5, 6], [7, 8, 9]]\n"
     ]
    }
   ],
   "source": [
    "#Question 6: Nested Lists\n",
    "#a\n",
    "matrix=[[1,2,3],[4,5,6],[7,8,9]]\n",
    "\n",
    "#b\n",
    "print(matrix[1][2])\n",
    "#c\n",
    "matrix[1][0]=0\n",
    "#print(matrix)"
   ]
  }
 ],
 "metadata": {
  "kernelspec": {
   "display_name": "Python 3 (ipykernel)",
   "language": "python",
   "name": "python3"
  },
  "language_info": {
   "codemirror_mode": {
    "name": "ipython",
    "version": 3
   },
   "file_extension": ".py",
   "mimetype": "text/x-python",
   "name": "python",
   "nbconvert_exporter": "python",
   "pygments_lexer": "ipython3",
   "version": "3.11.4"
  }
 },
 "nbformat": 4,
 "nbformat_minor": 5
}
